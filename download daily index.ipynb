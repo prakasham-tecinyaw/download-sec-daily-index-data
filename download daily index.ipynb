{
 "cells": [
  {
   "cell_type": "markdown",
   "metadata": {},
   "source": [
    "##### Import libraries "
   ]
  },
  {
   "cell_type": "code",
   "execution_count": 2,
   "metadata": {},
   "outputs": [],
   "source": [
    "import pandas as pd\n",
    "import io\n",
    "import gzip\n",
    "import requests\n",
    "import datetime\n",
    "import os"
   ]
  },
  {
   "cell_type": "markdown",
   "metadata": {},
   "source": [
    "##### Sample input "
   ]
  },
  {
   "cell_type": "code",
   "execution_count": 3,
   "metadata": {},
   "outputs": [],
   "source": [
    "input_ = [\n",
    "        {\n",
    "            'date':'20200102'\n",
    "        },\n",
    "        {\n",
    "            'date':'20200103'\n",
    "        },\n",
    "        {\n",
    "            'date':'20200104'\n",
    "        },\n",
    "        {\n",
    "            'date':'20200105'\n",
    "        },\n",
    "        {\n",
    "            'date':'20200106'\n",
    "        },\n",
    "        {\n",
    "            'date':'20200107'\n",
    "        },\n",
    "        {\n",
    "            'date':'20200108'\n",
    "        },\n",
    "        {\n",
    "            'date':'20200109'\n",
    "        }\n",
    "\n",
    "    ]"
   ]
  },
  {
   "cell_type": "markdown",
   "metadata": {},
   "source": [
    "##### Input processing  "
   ]
  },
  {
   "cell_type": "code",
   "execution_count": 4,
   "metadata": {},
   "outputs": [],
   "source": [
    "def process_input(input_):\n",
    "    file_names = []\n",
    "    for i in input_:\n",
    "        file_name = i.get('date')\n",
    "        file_names.append(file_name)\n",
    "    return file_names"
   ]
  },
  {
   "cell_type": "code",
   "execution_count": 5,
   "metadata": {},
   "outputs": [],
   "source": [
    "file_names = process_input(input_)"
   ]
  },
  {
   "cell_type": "code",
   "execution_count": 6,
   "metadata": {},
   "outputs": [
    {
     "name": "stdout",
     "output_type": "stream",
     "text": [
      "['20200102', '20200103', '20200104', '20200105', '20200106', '20200107', '20200108', '20200109']\n"
     ]
    }
   ],
   "source": [
    "print(file_names)"
   ]
  },
  {
   "cell_type": "markdown",
   "metadata": {},
   "source": [
    "##### Generate download url "
   ]
  },
  {
   "cell_type": "code",
   "execution_count": 7,
   "metadata": {},
   "outputs": [],
   "source": [
    "def gen_download_link(date_string, format_='idx'):\n",
    "\n",
    "    url_syntax = 'https://www.sec.gov/Archives/edgar/daily-index/{}/{}/{}.{}'\n",
    "    quarter_mapping = {\n",
    "        '01':'QTR1',\n",
    "        '02':'QTR1',\n",
    "        '03':'QTR1',\n",
    "        '04':'QTR2',\n",
    "        '05':'QTR2',\n",
    "        '06':'QTR2',\n",
    "        '07':'QTR3',\n",
    "        '08':'QTR3',\n",
    "        '09':'QTR3',\n",
    "        '10':'QTR4',\n",
    "        '11':'QTR4',\n",
    "        '12':'QTR4',\n",
    "        }\n",
    "    year = date_string[:4]\n",
    "    month = date_string[4:6]\n",
    "    quarter = quarter_mapping[month]\n",
    "    file_name = 'master'+'.'+date_string\n",
    "    \n",
    "    return url_syntax.format(year, quarter, file_name, format_)"
   ]
  },
  {
   "cell_type": "markdown",
   "metadata": {},
   "source": [
    "##### Get response from given url "
   ]
  },
  {
   "cell_type": "code",
   "execution_count": 8,
   "metadata": {},
   "outputs": [],
   "source": [
    "def get_url_response( url_link ):\n",
    "    \"\"\" request get url\n",
    "    \"\"\"\n",
    "    response = requests.request( \"GET\", url_link)\n",
    "    return response"
   ]
  },
  {
   "cell_type": "markdown",
   "metadata": {},
   "source": [
    "##### Save download data  "
   ]
  },
  {
   "cell_type": "code",
   "execution_count": null,
   "metadata": {},
   "outputs": [],
   "source": [
    "def save_to_local( response , file_name, format_ = 'idx'):\n",
    "\n",
    "    #define variable\n",
    "    status = False\n",
    "    folder_path = 'RD_LABEL/US_SEC/INDEX/'\n",
    "    target_path = folder_path+'{}.{}'\n",
    "\n",
    "    if response.status_code == 200:\n",
    "        # save raw data\n",
    "        with open( target_path.format(file_name, format_), 'wb') as f:\n",
    "            f.write(response.content)\n",
    "\n",
    "        # log success\n",
    "        print(\"Save Success - \",file_name )\n",
    "        status = True\n",
    "    elif response.status_code != 200:\n",
    "\n",
    "        # log warning\n",
    "        print( \"Save Failed - \" , file_name)\n",
    "\n",
    "    else:\n",
    "\n",
    "        # log\n",
    "        print(\"Invalid Response\")\n",
    "    \n",
    "    return status"
   ]
  },
  {
   "cell_type": "markdown",
   "metadata": {},
   "source": [
    "##### main download function"
   ]
  },
  {
   "cell_type": "code",
   "execution_count": 10,
   "metadata": {},
   "outputs": [],
   "source": [
    "def download_sec_edgar_data(file_names):\n",
    "    for file_name in file_names:\n",
    "        url = gen_download_link( file_name )\n",
    "        print(url)\n",
    "        response = get_url_response( url )\n",
    "        print(response)\n",
    "        status = save_to_local( response, file_name )\n",
    "    return status"
   ]
  },
  {
   "cell_type": "code",
   "execution_count": 11,
   "metadata": {},
   "outputs": [
    {
     "name": "stdout",
     "output_type": "stream",
     "text": [
      "https://www.sec.gov/Archives/edgar/daily-index/2020/QTR1/master.20200102.idx\n",
      "<Response [200]>\n",
      "Save Success -  20200102\n",
      "https://www.sec.gov/Archives/edgar/daily-index/2020/QTR1/master.20200103.idx\n",
      "<Response [200]>\n",
      "Save Success -  20200103\n",
      "https://www.sec.gov/Archives/edgar/daily-index/2020/QTR1/master.20200104.idx\n",
      "<Response [403]>\n",
      "Save Failed -  20200104\n",
      "https://www.sec.gov/Archives/edgar/daily-index/2020/QTR1/master.20200105.idx\n",
      "<Response [403]>\n",
      "Save Failed -  20200105\n",
      "https://www.sec.gov/Archives/edgar/daily-index/2020/QTR1/master.20200106.idx\n",
      "<Response [200]>\n",
      "Save Success -  20200106\n",
      "https://www.sec.gov/Archives/edgar/daily-index/2020/QTR1/master.20200107.idx\n",
      "<Response [200]>\n",
      "Save Success -  20200107\n",
      "https://www.sec.gov/Archives/edgar/daily-index/2020/QTR1/master.20200108.idx\n",
      "<Response [200]>\n",
      "Save Success -  20200108\n",
      "https://www.sec.gov/Archives/edgar/daily-index/2020/QTR1/master.20200109.idx\n",
      "<Response [200]>\n",
      "Save Success -  20200109\n"
     ]
    }
   ],
   "source": [
    "result = download_sec_edgar_data(file_names)"
   ]
  },
  {
   "cell_type": "markdown",
   "metadata": {},
   "source": [
    "##### Processing raw data "
   ]
  },
  {
   "cell_type": "code",
   "execution_count": 12,
   "metadata": {},
   "outputs": [],
   "source": [
    "file = open(\"RD_LABEL/US_SEC/INDEX/20200102.idx\", 'r')\n",
    "\n",
    "def strip_header(data):\n",
    "    line = ''\n",
    "    while set(line) != set(['-']):\n",
    "\n",
    "        line = data.readline().strip()\n",
    "    df = pd.read_csv(data,header=None, sep='|')\n",
    "    \n",
    "    return df"
   ]
  },
  {
   "cell_type": "code",
   "execution_count": 13,
   "metadata": {},
   "outputs": [],
   "source": [
    "data= strip_header(file)"
   ]
  },
  {
   "cell_type": "code",
   "execution_count": 14,
   "metadata": {},
   "outputs": [
    {
     "name": "stdout",
     "output_type": "stream",
     "text": [
      "            0                     1         2         3  \\\n",
      "0     1000228      HENRY SCHEIN INC         4  20200102   \n",
      "1     1000275  ROYAL BANK OF CANADA     424B2  20200102   \n",
      "2     1000275  ROYAL BANK OF CANADA       FWP  20200102   \n",
      "3     1000275  ROYAL BANK OF CANADA       FWP  20200102   \n",
      "4     1000275  ROYAL BANK OF CANADA       FWP  20200102   \n",
      "...       ...                   ...       ...       ...   \n",
      "4436    98246          TIFFANY & CO         4  20200102   \n",
      "4437    98246          TIFFANY & CO         4  20200102   \n",
      "4438    98246          TIFFANY & CO         4  20200102   \n",
      "4439    98246          TIFFANY & CO         4  20200102   \n",
      "4440    98338               TSR INC  SC 13D/A  20200102   \n",
      "\n",
      "                                                4  \n",
      "0     edgar/data/1000228/0001209191-20-000388.txt  \n",
      "1     edgar/data/1000275/0001140361-20-000013.txt  \n",
      "2     edgar/data/1000275/0001140361-20-000015.txt  \n",
      "3     edgar/data/1000275/0001140361-20-000019.txt  \n",
      "4     edgar/data/1000275/0001140361-20-000021.txt  \n",
      "...                                           ...  \n",
      "4436    edgar/data/98246/0000098246-20-000010.txt  \n",
      "4437    edgar/data/98246/0000098246-20-000012.txt  \n",
      "4438    edgar/data/98246/0000098246-20-000014.txt  \n",
      "4439    edgar/data/98246/0000098246-20-000016.txt  \n",
      "4440    edgar/data/98338/0001171520-20-000002.txt  \n",
      "\n",
      "[4441 rows x 5 columns]\n"
     ]
    }
   ],
   "source": [
    "print( data )"
   ]
  },
  {
   "cell_type": "code",
   "execution_count": 16,
   "metadata": {
    "scrolled": true
   },
   "outputs": [
    {
     "data": {
      "text/html": [
       "<div>\n",
       "<style scoped>\n",
       "    .dataframe tbody tr th:only-of-type {\n",
       "        vertical-align: middle;\n",
       "    }\n",
       "\n",
       "    .dataframe tbody tr th {\n",
       "        vertical-align: top;\n",
       "    }\n",
       "\n",
       "    .dataframe thead th {\n",
       "        text-align: right;\n",
       "    }\n",
       "</style>\n",
       "<table border=\"1\" class=\"dataframe\">\n",
       "  <thead>\n",
       "    <tr style=\"text-align: right;\">\n",
       "      <th></th>\n",
       "      <th>0</th>\n",
       "      <th>1</th>\n",
       "      <th>2</th>\n",
       "      <th>3</th>\n",
       "      <th>4</th>\n",
       "    </tr>\n",
       "  </thead>\n",
       "  <tbody>\n",
       "    <tr>\n",
       "      <th>0</th>\n",
       "      <td>1000228</td>\n",
       "      <td>HENRY SCHEIN INC</td>\n",
       "      <td>4</td>\n",
       "      <td>20200102</td>\n",
       "      <td>edgar/data/1000228/0001209191-20-000388.txt</td>\n",
       "    </tr>\n",
       "    <tr>\n",
       "      <th>1</th>\n",
       "      <td>1000275</td>\n",
       "      <td>ROYAL BANK OF CANADA</td>\n",
       "      <td>424B2</td>\n",
       "      <td>20200102</td>\n",
       "      <td>edgar/data/1000275/0001140361-20-000013.txt</td>\n",
       "    </tr>\n",
       "    <tr>\n",
       "      <th>2</th>\n",
       "      <td>1000275</td>\n",
       "      <td>ROYAL BANK OF CANADA</td>\n",
       "      <td>FWP</td>\n",
       "      <td>20200102</td>\n",
       "      <td>edgar/data/1000275/0001140361-20-000015.txt</td>\n",
       "    </tr>\n",
       "    <tr>\n",
       "      <th>3</th>\n",
       "      <td>1000275</td>\n",
       "      <td>ROYAL BANK OF CANADA</td>\n",
       "      <td>FWP</td>\n",
       "      <td>20200102</td>\n",
       "      <td>edgar/data/1000275/0001140361-20-000019.txt</td>\n",
       "    </tr>\n",
       "    <tr>\n",
       "      <th>4</th>\n",
       "      <td>1000275</td>\n",
       "      <td>ROYAL BANK OF CANADA</td>\n",
       "      <td>FWP</td>\n",
       "      <td>20200102</td>\n",
       "      <td>edgar/data/1000275/0001140361-20-000021.txt</td>\n",
       "    </tr>\n",
       "  </tbody>\n",
       "</table>\n",
       "</div>"
      ],
      "text/plain": [
       "         0                     1      2         3  \\\n",
       "0  1000228      HENRY SCHEIN INC      4  20200102   \n",
       "1  1000275  ROYAL BANK OF CANADA  424B2  20200102   \n",
       "2  1000275  ROYAL BANK OF CANADA    FWP  20200102   \n",
       "3  1000275  ROYAL BANK OF CANADA    FWP  20200102   \n",
       "4  1000275  ROYAL BANK OF CANADA    FWP  20200102   \n",
       "\n",
       "                                             4  \n",
       "0  edgar/data/1000228/0001209191-20-000388.txt  \n",
       "1  edgar/data/1000275/0001140361-20-000013.txt  \n",
       "2  edgar/data/1000275/0001140361-20-000015.txt  \n",
       "3  edgar/data/1000275/0001140361-20-000019.txt  \n",
       "4  edgar/data/1000275/0001140361-20-000021.txt  "
      ]
     },
     "execution_count": 16,
     "metadata": {},
     "output_type": "execute_result"
    }
   ],
   "source": [
    "data.head()"
   ]
  },
  {
   "cell_type": "markdown",
   "metadata": {},
   "source": [
    "##### Data munging(update key values) "
   ]
  },
  {
   "cell_type": "code",
   "execution_count": 18,
   "metadata": {},
   "outputs": [],
   "source": [
    "column_name_update_map = {0:'CIK', 1:'Company Name', 2:'Form Type',3:'Date Filed', 4:'File name'}\n",
    "dataframe = data.rename(columns=column_name_update_map) "
   ]
  },
  {
   "cell_type": "code",
   "execution_count": 19,
   "metadata": {},
   "outputs": [
    {
     "data": {
      "text/html": [
       "<div>\n",
       "<style scoped>\n",
       "    .dataframe tbody tr th:only-of-type {\n",
       "        vertical-align: middle;\n",
       "    }\n",
       "\n",
       "    .dataframe tbody tr th {\n",
       "        vertical-align: top;\n",
       "    }\n",
       "\n",
       "    .dataframe thead th {\n",
       "        text-align: right;\n",
       "    }\n",
       "</style>\n",
       "<table border=\"1\" class=\"dataframe\">\n",
       "  <thead>\n",
       "    <tr style=\"text-align: right;\">\n",
       "      <th></th>\n",
       "      <th>CIK</th>\n",
       "      <th>Company Name</th>\n",
       "      <th>Form Type</th>\n",
       "      <th>Date Filed</th>\n",
       "      <th>File name</th>\n",
       "    </tr>\n",
       "  </thead>\n",
       "  <tbody>\n",
       "    <tr>\n",
       "      <th>0</th>\n",
       "      <td>1000228</td>\n",
       "      <td>HENRY SCHEIN INC</td>\n",
       "      <td>4</td>\n",
       "      <td>20200102</td>\n",
       "      <td>edgar/data/1000228/0001209191-20-000388.txt</td>\n",
       "    </tr>\n",
       "    <tr>\n",
       "      <th>1</th>\n",
       "      <td>1000275</td>\n",
       "      <td>ROYAL BANK OF CANADA</td>\n",
       "      <td>424B2</td>\n",
       "      <td>20200102</td>\n",
       "      <td>edgar/data/1000275/0001140361-20-000013.txt</td>\n",
       "    </tr>\n",
       "    <tr>\n",
       "      <th>2</th>\n",
       "      <td>1000275</td>\n",
       "      <td>ROYAL BANK OF CANADA</td>\n",
       "      <td>FWP</td>\n",
       "      <td>20200102</td>\n",
       "      <td>edgar/data/1000275/0001140361-20-000015.txt</td>\n",
       "    </tr>\n",
       "    <tr>\n",
       "      <th>3</th>\n",
       "      <td>1000275</td>\n",
       "      <td>ROYAL BANK OF CANADA</td>\n",
       "      <td>FWP</td>\n",
       "      <td>20200102</td>\n",
       "      <td>edgar/data/1000275/0001140361-20-000019.txt</td>\n",
       "    </tr>\n",
       "    <tr>\n",
       "      <th>4</th>\n",
       "      <td>1000275</td>\n",
       "      <td>ROYAL BANK OF CANADA</td>\n",
       "      <td>FWP</td>\n",
       "      <td>20200102</td>\n",
       "      <td>edgar/data/1000275/0001140361-20-000021.txt</td>\n",
       "    </tr>\n",
       "    <tr>\n",
       "      <th>5</th>\n",
       "      <td>1000275</td>\n",
       "      <td>ROYAL BANK OF CANADA</td>\n",
       "      <td>FWP</td>\n",
       "      <td>20200102</td>\n",
       "      <td>edgar/data/1000275/0001140361-20-000036.txt</td>\n",
       "    </tr>\n",
       "    <tr>\n",
       "      <th>6</th>\n",
       "      <td>1001316</td>\n",
       "      <td>TG THERAPEUTICS, INC.</td>\n",
       "      <td>SC 13G</td>\n",
       "      <td>20200102</td>\n",
       "      <td>edgar/data/1001316/0001172661-20-000001.txt</td>\n",
       "    </tr>\n",
       "    <tr>\n",
       "      <th>7</th>\n",
       "      <td>1002047</td>\n",
       "      <td>NetApp, Inc.</td>\n",
       "      <td>4</td>\n",
       "      <td>20200102</td>\n",
       "      <td>edgar/data/1002047/0001614094-20-000001.txt</td>\n",
       "    </tr>\n",
       "    <tr>\n",
       "      <th>8</th>\n",
       "      <td>1003078</td>\n",
       "      <td>MSC INDUSTRIAL DIRECT CO INC</td>\n",
       "      <td>4</td>\n",
       "      <td>20200102</td>\n",
       "      <td>edgar/data/1003078/0001003078-20-000002.txt</td>\n",
       "    </tr>\n",
       "    <tr>\n",
       "      <th>9</th>\n",
       "      <td>1003839</td>\n",
       "      <td>MATTHEW 25 FUND</td>\n",
       "      <td>497AD</td>\n",
       "      <td>20200102</td>\n",
       "      <td>edgar/data/1003839/0001162044-20-000001.txt</td>\n",
       "    </tr>\n",
       "  </tbody>\n",
       "</table>\n",
       "</div>"
      ],
      "text/plain": [
       "       CIK                  Company Name Form Type  Date Filed  \\\n",
       "0  1000228              HENRY SCHEIN INC         4    20200102   \n",
       "1  1000275          ROYAL BANK OF CANADA     424B2    20200102   \n",
       "2  1000275          ROYAL BANK OF CANADA       FWP    20200102   \n",
       "3  1000275          ROYAL BANK OF CANADA       FWP    20200102   \n",
       "4  1000275          ROYAL BANK OF CANADA       FWP    20200102   \n",
       "5  1000275          ROYAL BANK OF CANADA       FWP    20200102   \n",
       "6  1001316         TG THERAPEUTICS, INC.    SC 13G    20200102   \n",
       "7  1002047                  NetApp, Inc.         4    20200102   \n",
       "8  1003078  MSC INDUSTRIAL DIRECT CO INC         4    20200102   \n",
       "9  1003839               MATTHEW 25 FUND     497AD    20200102   \n",
       "\n",
       "                                     File name  \n",
       "0  edgar/data/1000228/0001209191-20-000388.txt  \n",
       "1  edgar/data/1000275/0001140361-20-000013.txt  \n",
       "2  edgar/data/1000275/0001140361-20-000015.txt  \n",
       "3  edgar/data/1000275/0001140361-20-000019.txt  \n",
       "4  edgar/data/1000275/0001140361-20-000021.txt  \n",
       "5  edgar/data/1000275/0001140361-20-000036.txt  \n",
       "6  edgar/data/1001316/0001172661-20-000001.txt  \n",
       "7  edgar/data/1002047/0001614094-20-000001.txt  \n",
       "8  edgar/data/1003078/0001003078-20-000002.txt  \n",
       "9  edgar/data/1003839/0001162044-20-000001.txt  "
      ]
     },
     "execution_count": 19,
     "metadata": {},
     "output_type": "execute_result"
    }
   ],
   "source": [
    "dataframe.head(10)"
   ]
  },
  {
   "cell_type": "code",
   "execution_count": 20,
   "metadata": {},
   "outputs": [
    {
     "name": "stdout",
     "output_type": "stream",
     "text": [
      "<class 'pandas.core.frame.DataFrame'>\n",
      "RangeIndex: 4441 entries, 0 to 4440\n",
      "Data columns (total 5 columns):\n",
      " #   Column        Non-Null Count  Dtype \n",
      "---  ------        --------------  ----- \n",
      " 0   CIK           4441 non-null   int64 \n",
      " 1   Company Name  4441 non-null   object\n",
      " 2   Form Type     4441 non-null   object\n",
      " 3   Date Filed    4441 non-null   int64 \n",
      " 4   File name     4441 non-null   object\n",
      "dtypes: int64(2), object(3)\n",
      "memory usage: 173.6+ KB\n"
     ]
    }
   ],
   "source": [
    "dataframe.info()"
   ]
  },
  {
   "cell_type": "code",
   "execution_count": 21,
   "metadata": {},
   "outputs": [
    {
     "data": {
      "text/plain": [
       "(4441, 5)"
      ]
     },
     "execution_count": 21,
     "metadata": {},
     "output_type": "execute_result"
    }
   ],
   "source": [
    "dataframe.shape"
   ]
  },
  {
   "cell_type": "code",
   "execution_count": 22,
   "metadata": {},
   "outputs": [
    {
     "data": {
      "text/html": [
       "<div>\n",
       "<style scoped>\n",
       "    .dataframe tbody tr th:only-of-type {\n",
       "        vertical-align: middle;\n",
       "    }\n",
       "\n",
       "    .dataframe tbody tr th {\n",
       "        vertical-align: top;\n",
       "    }\n",
       "\n",
       "    .dataframe thead th {\n",
       "        text-align: right;\n",
       "    }\n",
       "</style>\n",
       "<table border=\"1\" class=\"dataframe\">\n",
       "  <thead>\n",
       "    <tr style=\"text-align: right;\">\n",
       "      <th></th>\n",
       "      <th>CIK</th>\n",
       "      <th>Company Name</th>\n",
       "      <th>Form Type</th>\n",
       "      <th>Date Filed</th>\n",
       "      <th>File name</th>\n",
       "    </tr>\n",
       "  </thead>\n",
       "  <tbody>\n",
       "    <tr>\n",
       "      <th>0</th>\n",
       "      <td>1000228</td>\n",
       "      <td>HENRY SCHEIN INC</td>\n",
       "      <td>4</td>\n",
       "      <td>20200102</td>\n",
       "      <td>edgar/data/1000228/0001209191-20-000388.txt</td>\n",
       "    </tr>\n",
       "  </tbody>\n",
       "</table>\n",
       "</div>"
      ],
      "text/plain": [
       "       CIK      Company Name Form Type  Date Filed  \\\n",
       "0  1000228  HENRY SCHEIN INC         4    20200102   \n",
       "\n",
       "                                     File name  \n",
       "0  edgar/data/1000228/0001209191-20-000388.txt  "
      ]
     },
     "execution_count": 22,
     "metadata": {},
     "output_type": "execute_result"
    }
   ],
   "source": [
    "dataframe.loc[dataframe['CIK'] == 1000228]"
   ]
  },
  {
   "cell_type": "markdown",
   "metadata": {},
   "source": [
    "##### Export data "
   ]
  },
  {
   "cell_type": "code",
   "execution_count": 24,
   "metadata": {},
   "outputs": [],
   "source": [
    "dataframe.to_csv('data.csv', index=False)  "
   ]
  },
  {
   "cell_type": "code",
   "execution_count": 25,
   "metadata": {},
   "outputs": [],
   "source": [
    "import json\n",
    "d = dataframe.to_dict(orient='records')"
   ]
  },
  {
   "cell_type": "code",
   "execution_count": 26,
   "metadata": {},
   "outputs": [],
   "source": [
    "with open('data.json', 'w') as outfile:\n",
    "    json.dump(d, outfile)"
   ]
  },
  {
   "cell_type": "code",
   "execution_count": null,
   "metadata": {},
   "outputs": [],
   "source": []
  },
  {
   "cell_type": "code",
   "execution_count": null,
   "metadata": {},
   "outputs": [],
   "source": []
  }
 ],
 "metadata": {
  "kernelspec": {
   "display_name": "Python 3",
   "language": "python",
   "name": "python3"
  },
  "language_info": {
   "codemirror_mode": {
    "name": "ipython",
    "version": 3
   },
   "file_extension": ".py",
   "mimetype": "text/x-python",
   "name": "python",
   "nbconvert_exporter": "python",
   "pygments_lexer": "ipython3",
   "version": "3.7.6"
  }
 },
 "nbformat": 4,
 "nbformat_minor": 4
}
